{
 "cells": [
  {
   "cell_type": "code",
   "execution_count": 1,
   "metadata": {},
   "outputs": [
    {
     "data": {
      "text/html": [
       "\n",
       "        <div>\n",
       "            <p><b>SparkContext</b></p>\n",
       "\n",
       "            <p><a href=\"http://nikolays-air:4041\">Spark UI</a></p>\n",
       "\n",
       "            <dl>\n",
       "              <dt>Version</dt>\n",
       "                <dd><code>v2.3.3</code></dd>\n",
       "              <dt>Master</dt>\n",
       "                <dd><code>local[2]</code></dd>\n",
       "              <dt>AppName</dt>\n",
       "                <dd><code>PySparkShell</code></dd>\n",
       "            </dl>\n",
       "        </div>\n",
       "        "
      ],
      "text/plain": [
       "<SparkContext master=local[2] appName=PySparkShell>"
      ]
     },
     "execution_count": 1,
     "metadata": {},
     "output_type": "execute_result"
    }
   ],
   "source": [
    "sc"
   ]
  },
  {
   "cell_type": "code",
   "execution_count": 2,
   "metadata": {},
   "outputs": [],
   "source": [
    "filePath = \"file:///Users/nikolayvaklinov/Desktop/apple.csv\"\n",
    "## for Windows use \"C:\\\\Users\\\\nikolayvaklinov\\\\Desktop\\\\apple.csv\"\n",
    "apple = sc.textFile(filePath)"
   ]
  },
  {
   "cell_type": "code",
   "execution_count": 3,
   "metadata": {},
   "outputs": [
    {
     "data": {
      "text/plain": [
       "file:///Users/nikolayvaklinov/Desktop/apple.csv MapPartitionsRDD[1] at textFile at NativeMethodAccessorImpl.java:0"
      ]
     },
     "execution_count": 3,
     "metadata": {},
     "output_type": "execute_result"
    }
   ],
   "source": [
    "apple"
   ]
  },
  {
   "cell_type": "code",
   "execution_count": 4,
   "metadata": {},
   "outputs": [
    {
     "data": {
      "text/plain": [
       "['Date,Open,High,Low,Close,Adj Close,Volume',\n",
       " '2019-05-14,186.410004,189.699997,185.410004,188.660004,188.660004,36529700',\n",
       " '2019-05-15,186.270004,191.750000,186.020004,190.919998,190.919998,26544700',\n",
       " '2019-05-16,189.910004,192.470001,188.839996,190.080002,190.080002,33031400',\n",
       " '2019-05-17,186.929993,190.899994,186.759995,189.000000,189.000000,32879100',\n",
       " '2019-05-20,183.520004,184.350006,180.279999,183.089996,183.089996,38612300',\n",
       " '2019-05-21,185.220001,188.000000,184.699997,186.600006,186.600006,28364800',\n",
       " '2019-05-22,184.660004,185.710007,182.550003,182.779999,182.779999,29748600',\n",
       " '2019-05-23,179.800003,180.539993,177.809998,179.660004,179.660004,36529700',\n",
       " '2019-05-24,180.199997,182.139999,178.619995,178.970001,178.970001,23714700']"
      ]
     },
     "execution_count": 4,
     "metadata": {},
     "output_type": "execute_result"
    }
   ],
   "source": [
    "apple.take(10)"
   ]
  },
  {
   "cell_type": "code",
   "execution_count": 5,
   "metadata": {},
   "outputs": [
    {
     "data": {
      "text/plain": [
       "23"
      ]
     },
     "execution_count": 5,
     "metadata": {},
     "output_type": "execute_result"
    }
   ],
   "source": [
    "apple.count()"
   ]
  },
  {
   "cell_type": "code",
   "execution_count": 6,
   "metadata": {},
   "outputs": [
    {
     "data": {
      "text/plain": [
       "'Date,Open,High,Low,Close,Adj Close,Volume'"
      ]
     },
     "execution_count": 6,
     "metadata": {},
     "output_type": "execute_result"
    }
   ],
   "source": [
    "apple.first()"
   ]
  },
  {
   "cell_type": "code",
   "execution_count": 7,
   "metadata": {},
   "outputs": [
    {
     "data": {
      "text/plain": [
       "['Date,Open,High,Low,Close,Adj Close,Volume',\n",
       " '2019-05-14,186.410004,189.699997,185.410004,188.660004,188.660004,36529700',\n",
       " '2019-05-15,186.270004,191.750000,186.020004,190.919998,190.919998,26544700',\n",
       " '2019-05-16,189.910004,192.470001,188.839996,190.080002,190.080002,33031400',\n",
       " '2019-05-17,186.929993,190.899994,186.759995,189.000000,189.000000,32879100',\n",
       " '2019-05-20,183.520004,184.350006,180.279999,183.089996,183.089996,38612300',\n",
       " '2019-05-21,185.220001,188.000000,184.699997,186.600006,186.600006,28364800',\n",
       " '2019-05-22,184.660004,185.710007,182.550003,182.779999,182.779999,29748600',\n",
       " '2019-05-23,179.800003,180.539993,177.809998,179.660004,179.660004,36529700',\n",
       " '2019-05-24,180.199997,182.139999,178.619995,178.970001,178.970001,23714700',\n",
       " '2019-05-28,178.919998,180.589996,177.910004,178.229996,178.229996,27948200',\n",
       " '2019-05-29,176.419998,179.350006,176.000000,177.380005,177.380005,28481200',\n",
       " '2019-05-30,177.949997,179.229996,176.669998,178.300003,178.300003,21218400',\n",
       " '2019-05-31,176.229996,177.990005,174.990005,175.070007,175.070007,27043600',\n",
       " '2019-06-03,175.600006,177.919998,170.270004,173.300003,173.300003,40396100',\n",
       " '2019-06-04,175.440002,179.830002,174.520004,179.639999,179.639999,30968000',\n",
       " '2019-06-05,184.279999,184.990005,181.139999,182.539993,182.539993,29773400',\n",
       " '2019-06-06,183.080002,185.470001,182.149994,185.220001,185.220001,22526300',\n",
       " '2019-06-07,186.509995,191.919998,185.770004,190.149994,190.149994,30684400',\n",
       " '2019-06-10,191.809998,195.369995,191.619995,192.580002,192.580002,26220900',\n",
       " '2019-06-11,194.860001,196.000000,193.600006,194.809998,194.809998,26932900',\n",
       " '2019-06-12,193.949997,195.970001,193.389999,194.190002,194.190002,18253200',\n",
       " '2019-06-13,194.699997,196.789993,193.600006,194.149994,194.149994,21621300']"
      ]
     },
     "execution_count": 7,
     "metadata": {},
     "output_type": "execute_result"
    }
   ],
   "source": [
    "apple.collect()"
   ]
  },
  {
   "cell_type": "code",
   "execution_count": null,
   "metadata": {},
   "outputs": [],
   "source": []
  }
 ],
 "metadata": {
  "kernelspec": {
   "display_name": "Python 3",
   "language": "python",
   "name": "python3"
  },
  "language_info": {
   "codemirror_mode": {
    "name": "ipython",
    "version": 3
   },
   "file_extension": ".py",
   "mimetype": "text/x-python",
   "name": "python",
   "nbconvert_exporter": "python",
   "pygments_lexer": "ipython3",
   "version": "3.7.1"
  }
 },
 "nbformat": 4,
 "nbformat_minor": 2
}
