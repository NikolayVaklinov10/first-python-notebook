{
 "cells": [
  {
   "cell_type": "code",
   "execution_count": 1,
   "metadata": {},
   "outputs": [],
   "source": [
    "bookPath = \"file:///Users/nikolayvaklinov/Downloads/Books.txt\"\n",
    "characterPath = \"file:///Users/nikolayvaklinov/Downloads/Characters.txt\"\n",
    "edgesPath = \"file:///Users/nikolayvaklinov/Downloads/Edges.txt\""
   ]
  },
  {
   "cell_type": "code",
   "execution_count": 3,
   "metadata": {},
   "outputs": [],
   "source": [
    "books = sc.textFile(bookPath)\n",
    "character = sc.textFile(characterPath)\n",
    "edge = sc.textFile(edgesPath)"
   ]
  },
  {
   "cell_type": "code",
   "execution_count": 4,
   "metadata": {},
   "outputs": [
    {
     "data": {
      "text/plain": [
       "['Vertex 6487: AA2 35',\n",
       " 'Vertex 6488: M/PRM 35',\n",
       " 'Vertex 6489: M/PRM 36',\n",
       " 'Vertex 6490: M/PRM 37',\n",
       " 'Vertex 6491: WI? 9',\n",
       " 'Vertex 6492: AVF 4',\n",
       " 'Vertex 6493: AVF 5',\n",
       " 'Vertex 6494: H2 251',\n",
       " 'Vertex 6495: H2 252',\n",
       " 'Vertex 6496: COC 1']"
      ]
     },
     "execution_count": 4,
     "metadata": {},
     "output_type": "execute_result"
    }
   ],
   "source": [
    "books.take(10)"
   ]
  },
  {
   "cell_type": "code",
   "execution_count": 6,
   "metadata": {},
   "outputs": [
    {
     "data": {
      "text/plain": [
       "['Vertex 1: 24-HOUR MAN/EMMANUEL',\n",
       " 'Vertex 2: 3-D MAN/CHARLES CHANDLER & HAROLD CHANDLER',\n",
       " 'Vertex 3: 4-D MAN/MERCURIO',\n",
       " 'Vertex 4: 8-BALL/',\n",
       " 'Vertex 5: A',\n",
       " \"Vertex 6: A'YIN\",\n",
       " 'Vertex 7: ABBOTT, JACK',\n",
       " 'Vertex 8: ABCISSA',\n",
       " 'Vertex 9: ABEL',\n",
       " 'Vertex 10: ABOMINATION/EMIL BLONSKY']"
      ]
     },
     "execution_count": 6,
     "metadata": {},
     "output_type": "execute_result"
    }
   ],
   "source": [
    "character.take(10)"
   ]
  },
  {
   "cell_type": "code",
   "execution_count": null,
   "metadata": {},
   "outputs": [],
   "source": []
  }
 ],
 "metadata": {
  "kernelspec": {
   "display_name": "Python 3",
   "language": "python",
   "name": "python3"
  },
  "language_info": {
   "codemirror_mode": {
    "name": "ipython",
    "version": 3
   },
   "file_extension": ".py",
   "mimetype": "text/x-python",
   "name": "python",
   "nbconvert_exporter": "python",
   "pygments_lexer": "ipython3",
   "version": "3.7.1"
  }
 },
 "nbformat": 4,
 "nbformat_minor": 2
}
